{
 "cells": [
  {
   "cell_type": "code",
   "execution_count": 1,
   "metadata": {},
   "outputs": [],
   "source": [
    "import pandas as pd\n",
    "import numpy as np\n",
    "import re\n",
    "data=pd.read_csv('artifacts/Cleaned_Indian_Food_Dataset.csv',usecols=['TranslatedRecipeName','Cleaned-Ingredients','TranslatedInstructions','Ingredient-count'])"
   ]
  },
  {
   "cell_type": "code",
   "execution_count": 2,
   "metadata": {},
   "outputs": [],
   "source": [
    "def clean_ingredients(ingredient_string):\n",
    "    # Remove anything inside parentheses\n",
    "    cleaned_string = re.sub(r'\\s*\\(.*?\\)\\s*', '', ingredient_string)\n",
    "    # Convert the cleaned string to a list\n",
    "    return [item.strip() for item in cleaned_string.split(',')]\n",
    "\n",
    "# Apply the function to the 'ingredients' column and create a new column 'Ingredients cleaned'\n",
    "data['Processed_Ingredients'] = data['Cleaned-Ingredients'].apply(clean_ingredients)"
   ]
  },
  {
   "cell_type": "code",
   "execution_count": 3,
   "metadata": {},
   "outputs": [
    {
     "name": "stderr",
     "output_type": "stream",
     "text": [
      "/tmp/ipykernel_5967/4081148958.py:4: LangChainDeprecationWarning: The class `Ollama` was deprecated in LangChain 0.3.1 and will be removed in 1.0.0. An updated version of the class exists in the :class:`~langchain-ollama package and should be used instead. To use it run `pip install -U :class:`~langchain-ollama` and import as `from :class:`~langchain_ollama import OllamaLLM``.\n",
      "  llm = Ollama(model='mistral')\n"
     ]
    }
   ],
   "source": [
    "from langchain_core.prompts import ChatPromptTemplate\n",
    "from langchain_core.output_parsers import StrOutputParser\n",
    "from langchain_community.llms.ollama import Ollama\n",
    "llm = Ollama(model='mistral')\n",
    "output_parser=StrOutputParser(\n",
    ")\n",
    "prompt3 = ChatPromptTemplate([\n",
    "    ('system', \"\"\"\n",
    "        You are a master Indian chef specializing in traditional Indian cuisine. The user will give you a list of ingredients, and you are required to create a genuine Indian dish using only those ingredients.\n",
    "        Use the following structure for your response:\n",
    "        \n",
    "        Ingredients Used:\n",
    "            - Ingredient 1\n",
    "            - Ingredient 2\n",
    "            - (List all ingredients provided by the user)\n",
    "        \n",
    "        Instructions:\n",
    "            - Step 1: (Describe each step of the cooking process in detail)\n",
    "            - Step 2: (Continue outlining the steps until the dish is complete)\n",
    "     \n",
    "        Below are sample instructions for a dish provided. Form your sentences in a similar manner.\n",
    "        - Step 1: To prepare gourd raita, prepare all the ingredients first.\n",
    "        - Step 2: Add grated gourd, cucumber, curd, green chillies, salt, cumin powder and coriander in a large bowl.\n",
    "        - Step 3: Mix well and your raita is ready.\n",
    "        - Step 4: Serve gourd raita with Garlic Dal, gourd elder greens and phulka for dinner.\n",
    "        \n",
    "        Keep your response focused on 'Ingredients Used' and 'Instructions'. Avoid adding additional explanations or extra information.\n",
    "    \"\"\"),\n",
    "    ('user', \"Ingredients: {Ingredients}\")\n",
    "    ])\n",
    "chain=prompt3|llm|output_parser\n",
    "\n",
    "response=chain.invoke({'Ingredients':data['Processed_Ingredients'][1]})\n"
   ]
  },
  {
   "cell_type": "code",
   "execution_count": 4,
   "metadata": {},
   "outputs": [
    {
     "data": {
      "text/plain": [
       "' Ingredients Used:\\n       - Tomato\\n       - Salt\\n       - Chickpea lentils\\n       - Green chilli\\n       - Rice\\n       - Mustard\\n       - Bc belle bhat powder\\n       - Dry red chilli\\n       - Cashew peanuts\\n       - Oil (as needed)\\n       - Asafoetida (hing)\\n       - Cumin seeds\\n       - White urad dal\\n\\n   Instructions:\\n       - Step 1: Soak the chickpea lentils and white urad dal for 2-3 hours.\\n       - Step 2: Drain the soaked lentils and dal, then pressure cook them with salt, dry red chilli, and a little oil until soft (approx. 4-5 whistles).\\n       - Step 3: In a separate pan, heat oil and add cumin seeds, followed by asafoetida.\\n       - Step 4: Add the cooked lentils and dal to the pan with cumin seeds and sauté for a few minutes.\\n       - Step 5: Roast the cashew peanuts in a separate pan until golden brown.\\n       - Step 6: Cook the rice according to package instructions, then fluff it using a fork.\\n       - Step 7: Sprinkle mustard and bc belle bhat powder over the cooked rice.\\n       - Step 8: Garnish the cooked lentils with roasted cashew peanuts and serve it with the flavored rice for dinner.'"
      ]
     },
     "execution_count": 4,
     "metadata": {},
     "output_type": "execute_result"
    }
   ],
   "source": [
    "response"
   ]
  },
  {
   "cell_type": "code",
   "execution_count": 5,
   "metadata": {},
   "outputs": [
    {
     "name": "stdout",
     "output_type": "stream",
     "text": [
      "Ingredients: []\n",
      "Instructions: ['- Step 2: Drain the soaked lentils and dal, then pressure cook them with salt, dry red chilli, and a little oil until soft (approx. 4-5 whistles).', '- Step 3: In a separate pan, heat oil and add cumin seeds, followed by asafoetida.', '- Step 4: Add the cooked lentils and dal to the pan with cumin seeds and sauté for a few minutes.', '- Step 5: Roast the cashew peanuts in a separate pan until golden brown.', '- Step 6: Cook the rice according to package instructions, then fluff it using a fork.', '- Step 7: Sprinkle mustard and bc belle bhat powder over the cooked rice.', '- Step 8: Garnish the cooked lentils with roasted cashew peanuts and serve it with the flavored rice for dinner.']\n"
     ]
    }
   ],
   "source": [
    "import re\n",
    "\n",
    "def parse_response(response: str):\n",
    "    lines = response.split('\\n')\n",
    "    gen_ingredients = []\n",
    "    gen_instructions = []\n",
    "    in_ingredients = False\n",
    "    in_instructions = False\n",
    "    \n",
    "    for line in lines:\n",
    "        line = line.strip() \n",
    "        if line == \"Ingredients Used:\":\n",
    "            in_ingredients = True\n",
    "            continue\n",
    "        elif line == \"Instructions:\":\n",
    "            in_ingredients = False\n",
    "            in_instructions = True\n",
    "            continue\n",
    "        \n",
    "        if in_ingredients and line.startswith(\"*\"):\n",
    "            # Extract only the ingredient name (before any parentheses)\n",
    "            ingredient = line[1:].strip().split('(')[0].strip()\n",
    "            gen_ingredients.append(ingredient)\n",
    "        elif in_instructions:\n",
    "            # Remove any leading numbers and periods\n",
    "            instruction = re.sub(r'^\\d+\\.\\s*', '', line)\n",
    "            if instruction:  # Only add non-empty instructions\n",
    "                gen_instructions.append(instruction.strip())\n",
    "\n",
    "    return gen_ingredients, gen_instructions\n",
    "\n",
    "\n",
    "\n",
    "\n",
    "gen_ingredients, gen_instructions = parse_response(response)\n",
    "print(\"Ingredients:\", gen_ingredients)\n",
    "print(\"Instructions:\", gen_instructions[1:])\n"
   ]
  },
  {
   "cell_type": "code",
   "execution_count": 6,
   "metadata": {},
   "outputs": [
    {
     "name": "stdout",
     "output_type": "stream",
     "text": [
      "Ingredients: ['Tomato', 'Salt', 'Chickpea lentils', 'Green chilli', 'Rice', 'Mustard', 'Bc belle bhat powder', 'Dry red chilli', 'Cashew peanuts', 'Oil (as needed)', 'Asafoetida (hing)', 'Cumin seeds', 'White urad dal']\n",
      "Instructions: ['Step 1: Soak the chickpea lentils and white urad dal for 2-3 hours.', 'Step 2: Drain the soaked lentils and dal, then pressure cook them with salt, dry red chilli, and a little oil until soft (approx. 4-5 whistles).', 'Step 3: In a separate pan, heat oil and add cumin seeds, followed by asafoetida.', 'Step 4: Add the cooked lentils and dal to the pan with cumin seeds and sauté for a few minutes.', 'Step 5: Roast the cashew peanuts in a separate pan until golden brown.', 'Step 6: Cook the rice according to package instructions, then fluff it using a fork.', 'Step 7: Sprinkle mustard and bc belle bhat powder over the cooked rice.', 'Step 8: Garnish the cooked lentils with roasted cashew peanuts and serve it with the flavored rice for dinner.']\n"
     ]
    }
   ],
   "source": []
  },
  {
   "cell_type": "code",
   "execution_count": 71,
   "metadata": {},
   "outputs": [
    {
     "name": "stdout",
     "output_type": "stream",
     "text": [
      "0.8333333333333334\n",
      "0.8333333333333334\n"
     ]
    }
   ],
   "source": [
    "actual_ingredients=data['Processed_Ingredients'][1]\n",
    "gen_ingredients_lower = [ingredient.lower() for ingredient in gen_ingredients]\n",
    "\n",
    "total_input_ingredients = len(actual_ingredients)\n",
    "total_ingredients_used = len(gen_ingredients_lower)\n",
    "\n",
    "relevant_ingredients_used = len(set(actual_ingredients).intersection(set(gen_ingredients_lower)))\n",
    "\n",
    "precision = relevant_ingredients_used / total_ingredients_used\n",
    "recall = relevant_ingredients_used / total_input_ingredients\n",
    "\n",
    "print(precision)\n",
    "print(recall)"
   ]
  },
  {
   "cell_type": "code",
   "execution_count": 73,
   "metadata": {},
   "outputs": [
    {
     "data": {
      "text/plain": [
       "0.5327862467147153"
      ]
     },
     "execution_count": 73,
     "metadata": {},
     "output_type": "execute_result"
    }
   ],
   "source": [
    "gen_instructions_cleaned='\\n '.join(gen_instructions)\n",
    "gen_instructions_cleaned\n",
    "from nltk.translate.bleu_score import sentence_bleu\n",
    "\n",
    "\n",
    "# Tokenize the sentences\n",
    "reference_tokens = data['TranslatedInstructions'][0].split('/n')  # Reference needs to be a list of token lists\n",
    "candidate_tokens = gen_instructions_cleaned\n",
    "weights = (0.5,0.5)\n",
    "# Calculate BLEU score\n",
    "bleu_score = sentence_bleu(reference_tokens, candidate_tokens,weights=weights)\n",
    "bleu_score"
   ]
  },
  {
   "cell_type": "code",
   "execution_count": 10,
   "metadata": {},
   "outputs": [
    {
     "name": "stdout",
     "output_type": "stream",
     "text": [
      " Ingredients Used:\n",
      "        - Tomato\n",
      "        - Salt\n",
      "        - Chickpea lentils (Chana Dal)\n",
      "        - Green chilli\n",
      "        - Rice\n",
      "        - Mustard (Rai)\n",
      "        - BC Belle Bhat Powder (optional)\n",
      "        - Dry red chilli (whole)\n",
      "        - Cashew peanuts (mix of cashews and peanuts)\n",
      "        - Oil (Tail Tali/Oil)\n",
      "        - Asafoetida (Hing)\n",
      "        - Cumin seeds (Jeera)\n",
      "        - White urad dal (Urad Dal)\n",
      "\n",
      "   Instructions:\n",
      "       - Step 1: Cook rice separately and keep it aside. Soak Chickpea lentils for about 30 minutes, then pressure cook with enough water until tender.\n",
      "       - Step 2: Heat oil in a pan, add cumin seeds and let them splutter. Add dry red chilli, asafoetida, and sauté the spices for a few seconds.\n",
      "       - Step 3: Add chopped tomatoes to the pan and cook until they become soft. Then, add the cooked chickpea lentils along with the cooking liquid (adjust consistency according to preference).\n",
      "       - Step 4: Simmer the mixture on low heat, stirring occasionally, for about 10 minutes or until the oil starts separating from dal. Add salt and mix well.\n",
      "       - Step 5: In a separate pan, roast cashew peanuts lightly. Grind them coarsely (optional). Sprinkle over the cooked chickpea lentils along with the BC Belle Bhat powder before serving.\n",
      "       - Step 6: Serve this delicious Chana Dal (Chickpea Lentil) dish with cooked rice, gourd elder greens and phulka (Indian flatbread). Enjoy your meal!\n",
      "Ingredients: ['Tomato', 'Salt', 'Chickpea lentils (Chana Dal)', 'Green chilli', 'Rice', 'Mustard (Rai)', 'BC Belle Bhat Powder (optional)', 'Dry red chilli (whole)', 'Cashew peanuts (mix of cashews and peanuts)', 'Oil (Tail Tali/Oil)', 'Asafoetida (Hing)', 'Cumin seeds (Jeera)', 'White urad dal (Urad Dal)']\n",
      "Instructions: ['Step 1: Cook rice separately and keep it aside. Soak Chickpea lentils for about 30 minutes, then pressure cook with enough water until tender.', 'Step 2: Heat oil in a pan, add cumin seeds and let them splutter. Add dry red chilli, asafoetida, and sauté the spices for a few seconds.', 'Step 3: Add chopped tomatoes to the pan and cook until they become soft. Then, add the cooked chickpea lentils along with the cooking liquid (adjust consistency according to preference).', 'Step 4: Simmer the mixture on low heat, stirring occasionally, for about 10 minutes or until the oil starts separating from dal. Add salt and mix well.', 'Step 5: In a separate pan, roast cashew peanuts lightly. Grind them coarsely (optional). Sprinkle over the cooked chickpea lentils along with the BC Belle Bhat powder before serving.', 'Step 6: Serve this delicious Chana Dal (Chickpea Lentil) dish with cooked rice, gourd elder greens and phulka (Indian flatbread). Enjoy your meal!']\n",
      "0.3076923076923077\n",
      "0.3333333333333333\n"
     ]
    },
    {
     "data": {
      "text/plain": [
       "0.7332057422104357"
      ]
     },
     "execution_count": 10,
     "metadata": {},
     "output_type": "execute_result"
    }
   ],
   "source": [
    "#Mistral\n",
    "\n",
    "from langchain_core.prompts import ChatPromptTemplate\n",
    "from langchain_core.output_parsers import StrOutputParser\n",
    "from langchain_community.llms.ollama import Ollama\n",
    "llm = Ollama(model='mistral')\n",
    "output_parser=StrOutputParser(\n",
    ")\n",
    "prompt2 = ChatPromptTemplate([\n",
    "    ('system', \"\"\"\n",
    "        You are a highly skilled Indian chef. The user will provide a list of ingredients, and your responsibility is to craft an authentic Indian dish using only those ingredients. \n",
    "        Please format your response using the following structure:\n",
    "        \n",
    "        Ingredients Used:\n",
    "            - Ingredient 1\n",
    "            - Ingredient 2\n",
    "            - (Include all provided ingredients)\n",
    "        \n",
    "        Instructions:\n",
    "            - Step 1: (Provide precise cooking instructions in a step-by-step manner)\n",
    "            - Step 2: (Detail each step until the recipe is complete)\n",
    "     \n",
    "        Below are sample instructions for a dish provided. Form your sentences in a similar manner.\n",
    "        - Step 1: To prepare gourd raita, prepare all the ingredients first.\n",
    "        - Step 2: Add grated gourd, cucumber, curd, green chillies, salt, cumin powder and coriander in a large bowl.\n",
    "        - Step 3: Mix well and your raita is ready.\n",
    "        - Step 4: Serve gourd raita with Garlic Dal, gourd elder greens and phulka for dinner.\n",
    "        \n",
    "        Ensure your response only includes the 'Ingredients Used' and 'Instructions'. Avoid unnecessary commentary or extra information.\n",
    "    \"\"\"),\n",
    "    ('user', \"Ingredients: {Ingredients}\")\n",
    "    ])\n",
    "chain=prompt2|llm|output_parser\n",
    "\n",
    "response=chain.invoke({'Ingredients':data['Processed_Ingredients'][1]})\n",
    "\n",
    "print(response)\n",
    "\n",
    "# Extracting ingredients\n",
    "ingredients_section = response.split(\"Ingredients Used:\")[1].split(\"Instructions:\")[0].strip()\n",
    "gen_ingredients = [ingredient.strip('- ').strip() for ingredient in ingredients_section.split('\\n') if ingredient]\n",
    "\n",
    "# Extracting instructions\n",
    "instructions_section = response.split(\"Instructions:\")[1].strip()\n",
    "gen_instructions = [instruction.strip('- ').strip() for instruction in instructions_section.split('\\n') if instruction]\n",
    "\n",
    "print(\"Ingredients:\", gen_ingredients)\n",
    "print(\"Instructions:\", gen_instructions)\n",
    "\n",
    "\n",
    "\n",
    "actual_ingredients=data['Processed_Ingredients'][1]\n",
    "gen_ingredients_lower = [ingredient.lower() for ingredient in gen_ingredients]\n",
    "\n",
    "total_input_ingredients = len(actual_ingredients)\n",
    "total_ingredients_used = len(gen_ingredients_lower)\n",
    "\n",
    "relevant_ingredients_used = len(set(actual_ingredients).intersection(set(gen_ingredients_lower)))\n",
    "\n",
    "precision = relevant_ingredients_used / total_ingredients_used\n",
    "recall = relevant_ingredients_used / total_input_ingredients\n",
    "\n",
    "print(precision)\n",
    "print(recall)\n",
    "\n",
    "\n",
    "gen_instructions_cleaned='\\n '.join(gen_instructions)\n",
    "gen_instructions_cleaned\n",
    "from nltk.translate.bleu_score import sentence_bleu\n",
    "\n",
    "\n",
    "# Tokenize the sentences\n",
    "reference_tokens = data['TranslatedInstructions'][0].split('/n')  # Reference needs to be a list of token lists\n",
    "candidate_tokens = gen_instructions_cleaned\n",
    "weights = (0.5,0.5)\n",
    "# Calculate BLEU score\n",
    "bleu_score = sentence_bleu(reference_tokens, candidate_tokens,weights=weights)\n",
    "bleu_score"
   ]
  },
  {
   "cell_type": "code",
   "execution_count": null,
   "metadata": {},
   "outputs": [],
   "source": []
  }
 ],
 "metadata": {
  "kernelspec": {
   "display_name": "PT_GPU",
   "language": "python",
   "name": "python3"
  },
  "language_info": {
   "codemirror_mode": {
    "name": "ipython",
    "version": 3
   },
   "file_extension": ".py",
   "mimetype": "text/x-python",
   "name": "python",
   "nbconvert_exporter": "python",
   "pygments_lexer": "ipython3",
   "version": "3.12.7"
  }
 },
 "nbformat": 4,
 "nbformat_minor": 2
}
